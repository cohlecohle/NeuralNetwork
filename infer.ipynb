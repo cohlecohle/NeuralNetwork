{
  "nbformat": 4,
  "nbformat_minor": 0,
  "metadata": {
    "colab": {
      "name": "infer.ipynb",
      "provenance": [],
      "collapsed_sections": []
    },
    "kernelspec": {
      "name": "python3",
      "display_name": "Python 3"
    },
    "language_info": {
      "name": "python"
    },
    "accelerator": "GPU"
  },
  "cells": [
    {
      "cell_type": "code",
      "metadata": {
        "id": "MYF-qKJNCs2i"
      },
      "source": [
        "import numpy as np \n",
        "import pandas as pd \n",
        "import shutil\n",
        "import os\n",
        "import zipfile\n",
        "import torch\n",
        "import torch.nn as nn\n",
        "import cv2\n",
        "import matplotlib.pyplot as plt\n",
        "import torchvision\n",
        "from torch.utils.data import Dataset, DataLoader\n",
        "from torch.utils.data.sampler import WeightedRandomSampler\n",
        "from torch.autograd import Variable\n",
        "from torchvision import transforms\n",
        "import torch.nn.functional as F\n",
        "from sklearn.model_selection import train_test_split\n",
        "import copy\n",
        "import tqdm\n",
        "import time\n",
        "import random\n",
        "from PIL import Image\n",
        "import albumentations\n",
        "from albumentations import pytorch as AT"
      ],
      "execution_count": 1,
      "outputs": []
    },
    {
      "cell_type": "code",
      "metadata": {
        "id": "-tojiPRwC6-f"
      },
      "source": [
        "def seed_everything(seed):\n",
        "    random.seed(seed)\n",
        "    os.environ['PYTHONHASHSEED'] = str(seed)\n",
        "    np.random.seed(seed)\n",
        "    torch.manual_seed(seed)\n",
        "    torch.cuda.manual_seed(seed)\n",
        "    torch.backends.cudnn.deterministic = True"
      ],
      "execution_count": 2,
      "outputs": []
    },
    {
      "cell_type": "code",
      "metadata": {
        "id": "6jkPuZotC8yb"
      },
      "source": [
        "def infer(weights, path_to_dataset):\n",
        "    seed_everything(42)\n",
        "\n",
        "    data_transforms = albumentations.Compose([\n",
        "        albumentations.Resize(256, 256),\n",
        "        AT.ToTensor()\n",
        "    ])\n",
        "\n",
        "    model = torchvision.models.resnet101(pretrained=True, progress=True)\n",
        "    for param in model.parameters():\n",
        "        param.requires_grad = False\n",
        "    model.fc = torch.nn.Linear(model.fc.in_features, 22)    \n",
        "\n",
        "    device = torch.device(\"cuda:0\" if torch.cuda.is_available() else \"cpu\")\n",
        "    model = model.to(device)\n",
        "\n",
        "    if not os.path.exists(weights):\n",
        "        print('File weights does not exists')\n",
        "        return\n",
        "    \n",
        "    model.load_state_dict(torch.load(weights))\n",
        "    model.eval()\n",
        "\n",
        "    pred_to_label = {\n",
        "        0 : 'baseball', \n",
        "        1 : 'formula1', \n",
        "        2 : 'fencing', \n",
        "        3 : 'motogp', \n",
        "        4 : 'ice_hockey', \n",
        "        5 : 'wrestling', \n",
        "        6 : 'boxing', \n",
        "        7 : 'volleyball', \n",
        "        8 : 'cricket', \n",
        "        9 : 'basketball', \n",
        "        10 : 'wwe', \n",
        "        11 : 'swimming', \n",
        "        12 : 'weight_lifting', \n",
        "        13 : 'gymnastics', \n",
        "        14 : 'tennis', \n",
        "        15 : 'kabaddi', \n",
        "        16 : 'badminton', \n",
        "        17 : 'football', \n",
        "        18 : 'table_tennis', \n",
        "        19 : 'hockey', \n",
        "        20 : 'shooting', \n",
        "        21 : 'chess'\n",
        "    }\n",
        "\n",
        "    file_list = os.listdir(path_to_dataset)\n",
        "\n",
        "    labels = []\n",
        "\n",
        "    for file_name in file_list:\n",
        "        image = cv2.imread(os.path.join(path_to_dataset, file_name))\n",
        "        image = cv2.cvtColor(image, cv2.COLOR_BGR2RGB)\n",
        "\n",
        "        with torch.no_grad():\n",
        "            transformed_img = data_transforms(image=image)['image'].to(device)\n",
        "\n",
        "            output = model(transformed_img[None, ...].float())\n",
        "            pred = torch.sigmoid(output).argmax().to('cpu').item()\n",
        "\n",
        "            labels.append(pred_to_label[pred])\n",
        "\n",
        "    df = pd.DataFrame(list(zip(file_list, labels)), columns = ('image', 'sports'))\n",
        "    df.to_csv('preds_list.csv', sep = ',', index = False)"
      ],
      "execution_count": 5,
      "outputs": []
    },
    {
      "cell_type": "code",
      "metadata": {
        "id": "LeobjlgSDA4d"
      },
      "source": [
        "infer('/content/model.pt', '/content/dataset')"
      ],
      "execution_count": 6,
      "outputs": []
    }
  ]
}